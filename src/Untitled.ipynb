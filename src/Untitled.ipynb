{
 "cells": [
  {
   "cell_type": "code",
   "execution_count": 5,
   "id": "34726944",
   "metadata": {},
   "outputs": [],
   "source": [
    "from clearml import Dataset"
   ]
  },
  {
   "cell_type": "code",
   "execution_count": 6,
   "id": "b3108991",
   "metadata": {},
   "outputs": [
    {
     "ename": "ValueError",
     "evalue": "Could not find Dataset project/name ('datasets/facenet', 'resnet_pretrained')",
     "output_type": "error",
     "traceback": [
      "\u001b[0;31m---------------------------------------------------------------------------\u001b[0m",
      "\u001b[0;31mValueError\u001b[0m                                Traceback (most recent call last)",
      "Input \u001b[0;32mIn [6]\u001b[0m, in \u001b[0;36m<cell line: 3>\u001b[0;34m()\u001b[0m\n\u001b[1;32m      1\u001b[0m dataset_name \u001b[38;5;241m=\u001b[39m \u001b[38;5;124m\"\u001b[39m\u001b[38;5;124mresnet_pretrained\u001b[39m\u001b[38;5;124m\"\u001b[39m\n\u001b[1;32m      2\u001b[0m dataset_project \u001b[38;5;241m=\u001b[39m \u001b[38;5;124m\"\u001b[39m\u001b[38;5;124mdatasets/facenet\u001b[39m\u001b[38;5;124m\"\u001b[39m\n\u001b[0;32m----> 3\u001b[0m dataset_path \u001b[38;5;241m=\u001b[39m \u001b[43mDataset\u001b[49m\u001b[38;5;241;43m.\u001b[39;49m\u001b[43mget\u001b[49m\u001b[43m(\u001b[49m\n\u001b[1;32m      4\u001b[0m \u001b[43m    \u001b[49m\u001b[43mdataset_name\u001b[49m\u001b[38;5;241;43m=\u001b[39;49m\u001b[43mdataset_name\u001b[49m\u001b[43m,\u001b[49m\u001b[43m \u001b[49m\n\u001b[1;32m      5\u001b[0m \u001b[43m    \u001b[49m\u001b[43mdataset_project\u001b[49m\u001b[38;5;241;43m=\u001b[39;49m\u001b[43mdataset_project\u001b[49m\n\u001b[1;32m      6\u001b[0m \u001b[43m)\u001b[49m\n",
      "File \u001b[0;32m~/anaconda3/envs/facenet3/lib/python3.9/site-packages/clearml/datasets/dataset.py:956\u001b[0m, in \u001b[0;36mDataset.get\u001b[0;34m(cls, dataset_id, dataset_project, dataset_name, dataset_tags, only_completed, only_published, auto_create, writable_copy)\u001b[0m\n\u001b[1;32m    953\u001b[0m         instance \u001b[38;5;241m=\u001b[39m Dataset\u001b[38;5;241m.\u001b[39mcreate(dataset_name\u001b[38;5;241m=\u001b[39mdataset_name, dataset_project\u001b[38;5;241m=\u001b[39mdataset_project,\n\u001b[1;32m    954\u001b[0m                                   dataset_tags\u001b[38;5;241m=\u001b[39mdataset_tags)\n\u001b[1;32m    955\u001b[0m         \u001b[38;5;28;01mreturn\u001b[39;00m instance\n\u001b[0;32m--> 956\u001b[0m     \u001b[38;5;28;01mraise\u001b[39;00m \u001b[38;5;167;01mValueError\u001b[39;00m(\u001b[38;5;124m'\u001b[39m\u001b[38;5;124mCould not find Dataset \u001b[39m\u001b[38;5;132;01m{}\u001b[39;00m\u001b[38;5;124m \u001b[39m\u001b[38;5;132;01m{}\u001b[39;00m\u001b[38;5;124m'\u001b[39m\u001b[38;5;241m.\u001b[39mformat(\n\u001b[1;32m    957\u001b[0m         \u001b[38;5;124m'\u001b[39m\u001b[38;5;124mid\u001b[39m\u001b[38;5;124m'\u001b[39m \u001b[38;5;28;01mif\u001b[39;00m dataset_id \u001b[38;5;28;01melse\u001b[39;00m \u001b[38;5;124m'\u001b[39m\u001b[38;5;124mproject/name\u001b[39m\u001b[38;5;124m'\u001b[39m,\n\u001b[1;32m    958\u001b[0m         dataset_id \u001b[38;5;28;01mif\u001b[39;00m dataset_id \u001b[38;5;28;01melse\u001b[39;00m (dataset_project, dataset_name)))\n\u001b[1;32m    959\u001b[0m task \u001b[38;5;241m=\u001b[39m tasks[\u001b[38;5;241m0\u001b[39m]\n\u001b[1;32m    960\u001b[0m \u001b[38;5;28;01mif\u001b[39;00m task\u001b[38;5;241m.\u001b[39mstatus \u001b[38;5;241m==\u001b[39m \u001b[38;5;124m'\u001b[39m\u001b[38;5;124mcreated\u001b[39m\u001b[38;5;124m'\u001b[39m:\n",
      "\u001b[0;31mValueError\u001b[0m: Could not find Dataset project/name ('datasets/facenet', 'resnet_pretrained')"
     ]
    }
   ],
   "source": [
    "dataset_name = \"resnet_pretrained\"\n",
    "dataset_project = \"datasets/facenet\"\n",
    "dataset_path = Dataset.get(\n",
    "    dataset_name=dataset_name, \n",
    "    dataset_project=dataset_project\n",
    ")"
   ]
  },
  {
   "cell_type": "code",
   "execution_count": 71,
   "id": "f3ab124b",
   "metadata": {},
   "outputs": [
    {
     "data": {
      "text/plain": [
       "<clearml.datasets.dataset.Dataset at 0x7f834f6ee130>"
      ]
     },
     "execution_count": 71,
     "metadata": {},
     "output_type": "execute_result"
    }
   ],
   "source": [
    "dataset_path"
   ]
  },
  {
   "cell_type": "code",
   "execution_count": 72,
   "id": "fcbd7eba",
   "metadata": {},
   "outputs": [
    {
     "data": {
      "text/plain": [
       "'/home/dh/.clearml/cache/storage_manager/datasets/ds_df8a060d306d40cf97aae6f771959e15'"
      ]
     },
     "execution_count": 72,
     "metadata": {},
     "output_type": "execute_result"
    },
    {
     "name": "stderr",
     "output_type": "stream",
     "text": [
      "Retrying (Retry(total=237, connect=237, read=240, redirect=240, status=240)) after connection broken by 'NewConnectionError('<urllib3.connection.HTTPConnection object at 0x7f833f40c6d0>: Failed to establish a new connection: [Errno -3] Temporary failure in name resolution')': /v2.13/tasks.ping\n"
     ]
    }
   ],
   "source": [
    "dataset_path.get_local_copy()"
   ]
  },
  {
   "cell_type": "code",
   "execution_count": 9,
   "id": "591db4ad",
   "metadata": {},
   "outputs": [],
   "source": [
    "tmp = '/home/dh/.clearml/cache/storage_manager/datasets/ds_df8a060d306d40cf97aae6f771959e15'"
   ]
  },
  {
   "cell_type": "code",
   "execution_count": 18,
   "id": "1461f2d8",
   "metadata": {},
   "outputs": [],
   "source": [
    "import os\n",
    "from tempfile import gettempdir"
   ]
  },
  {
   "cell_type": "code",
   "execution_count": 19,
   "id": "70e5a029",
   "metadata": {},
   "outputs": [
    {
     "data": {
      "text/plain": [
       "'/tmp'"
      ]
     },
     "execution_count": 19,
     "metadata": {},
     "output_type": "execute_result"
    }
   ],
   "source": [
    "gettempdir()"
   ]
  },
  {
   "cell_type": "code",
   "execution_count": 20,
   "id": "371d1c5b",
   "metadata": {},
   "outputs": [
    {
     "data": {
      "text/plain": [
       "'/tmp/Meow'"
      ]
     },
     "execution_count": 20,
     "metadata": {},
     "output_type": "execute_result"
    }
   ],
   "source": [
    "os.path.join(gettempdir(), \"Meow\")"
   ]
  },
  {
   "cell_type": "code",
   "execution_count": 22,
   "id": "7df32b34",
   "metadata": {},
   "outputs": [],
   "source": [
    "output_data = Dataset.create(dataset_name='models', dataset_project = 'datasets/facenet')"
   ]
  },
  {
   "cell_type": "code",
   "execution_count": 51,
   "id": "d1684020",
   "metadata": {},
   "outputs": [],
   "source": [
    "log_string = \"\""
   ]
  },
  {
   "cell_type": "code",
   "execution_count": 52,
   "id": "6e169806",
   "metadata": {},
   "outputs": [],
   "source": [
    "asd = [[1,2,3,4,5],[3,4,5,6,7]]"
   ]
  },
  {
   "cell_type": "code",
   "execution_count": 55,
   "id": "2dcac79e",
   "metadata": {},
   "outputs": [],
   "source": [
    "for k in asd:\n",
    "    log = '\\t'.join(str(value) for value in k)\n",
    "    log_string = log_string + log + '\\n'"
   ]
  },
  {
   "cell_type": "code",
   "execution_count": 56,
   "id": "360f6b24",
   "metadata": {},
   "outputs": [
    {
     "name": "stdout",
     "output_type": "stream",
     "text": [
      "1\t2\t3\t4\t5\n",
      "3\t4\t5\t6\t7\n",
      "1\t2\t3\t4\t5\n",
      "3\t4\t5\t6\t7\n",
      "\n"
     ]
    }
   ],
   "source": [
    "print(log_string)"
   ]
  },
  {
   "cell_type": "code",
   "execution_count": 58,
   "id": "990693a9",
   "metadata": {},
   "outputs": [
    {
     "data": {
      "text/plain": [
       "['1\\t2\\t3\\t4\\t5', '3\\t4\\t5\\t6\\t7', '1\\t2\\t3\\t4\\t5', '3\\t4\\t5\\t6\\t7']"
      ]
     },
     "execution_count": 58,
     "metadata": {},
     "output_type": "execute_result"
    }
   ],
   "source": [
    "log_string.splitlines()"
   ]
  },
  {
   "cell_type": "code",
   "execution_count": 38,
   "id": "cd70e883",
   "metadata": {},
   "outputs": [
    {
     "ename": "ValueError",
     "evalue": "invalid literal for int() with base 10: ''",
     "output_type": "error",
     "traceback": [
      "\u001b[0;31m---------------------------------------------------------------------------\u001b[0m",
      "\u001b[0;31mValueError\u001b[0m                                Traceback (most recent call last)",
      "Input \u001b[0;32mIn [38]\u001b[0m, in \u001b[0;36m<cell line: 1>\u001b[0;34m()\u001b[0m\n\u001b[0;32m----> 1\u001b[0m epoch_list \u001b[38;5;241m=\u001b[39m [\u001b[38;5;28mint\u001b[39m(line\u001b[38;5;241m.\u001b[39msplit(\u001b[38;5;124m'\u001b[39m\u001b[38;5;130;01m\\t\u001b[39;00m\u001b[38;5;124m'\u001b[39m)[\u001b[38;5;241m0\u001b[39m]) \u001b[38;5;28;01mfor\u001b[39;00m line \u001b[38;5;129;01min\u001b[39;00m log_string]\n\u001b[1;32m      2\u001b[0m accuracy_list \u001b[38;5;241m=\u001b[39m [\u001b[38;5;28mround\u001b[39m(\u001b[38;5;28mfloat\u001b[39m(line\u001b[38;5;241m.\u001b[39msplit(\u001b[38;5;124m'\u001b[39m\u001b[38;5;130;01m\\t\u001b[39;00m\u001b[38;5;124m'\u001b[39m)[\u001b[38;5;241m1\u001b[39m]), \u001b[38;5;241m2\u001b[39m) \u001b[38;5;28;01mfor\u001b[39;00m line \u001b[38;5;129;01min\u001b[39;00m log_string]\n",
      "Input \u001b[0;32mIn [38]\u001b[0m, in \u001b[0;36m<listcomp>\u001b[0;34m(.0)\u001b[0m\n\u001b[0;32m----> 1\u001b[0m epoch_list \u001b[38;5;241m=\u001b[39m [\u001b[38;5;28;43mint\u001b[39;49m\u001b[43m(\u001b[49m\u001b[43mline\u001b[49m\u001b[38;5;241;43m.\u001b[39;49m\u001b[43msplit\u001b[49m\u001b[43m(\u001b[49m\u001b[38;5;124;43m'\u001b[39;49m\u001b[38;5;130;43;01m\\t\u001b[39;49;00m\u001b[38;5;124;43m'\u001b[39;49m\u001b[43m)\u001b[49m\u001b[43m[\u001b[49m\u001b[38;5;241;43m0\u001b[39;49m\u001b[43m]\u001b[49m\u001b[43m)\u001b[49m \u001b[38;5;28;01mfor\u001b[39;00m line \u001b[38;5;129;01min\u001b[39;00m log_string]\n\u001b[1;32m      2\u001b[0m accuracy_list \u001b[38;5;241m=\u001b[39m [\u001b[38;5;28mround\u001b[39m(\u001b[38;5;28mfloat\u001b[39m(line\u001b[38;5;241m.\u001b[39msplit(\u001b[38;5;124m'\u001b[39m\u001b[38;5;130;01m\\t\u001b[39;00m\u001b[38;5;124m'\u001b[39m)[\u001b[38;5;241m1\u001b[39m]), \u001b[38;5;241m2\u001b[39m) \u001b[38;5;28;01mfor\u001b[39;00m line \u001b[38;5;129;01min\u001b[39;00m log_string]\n",
      "\u001b[0;31mValueError\u001b[0m: invalid literal for int() with base 10: ''"
     ]
    }
   ],
   "source": [
    "epoch_list = [int(line.split('\\t')[0]) for line in lines]\n",
    "accuracy_list = [round(float(line.split('\\t')[1]), 2) for line in lines]"
   ]
  },
  {
   "cell_type": "code",
   "execution_count": 60,
   "id": "1c4fd892",
   "metadata": {},
   "outputs": [],
   "source": [
    "log_string=log_string.splitlines()"
   ]
  },
  {
   "cell_type": "code",
   "execution_count": 65,
   "id": "1acd6069",
   "metadata": {},
   "outputs": [],
   "source": [
    "epoch_list = [int(line.split('\\t')[0]) for line in log_string]"
   ]
  },
  {
   "cell_type": "code",
   "execution_count": 66,
   "id": "26c670a1",
   "metadata": {},
   "outputs": [
    {
     "data": {
      "text/plain": [
       "[1, 3, 1, 3]"
      ]
     },
     "execution_count": 66,
     "metadata": {},
     "output_type": "execute_result"
    }
   ],
   "source": [
    "epoch_list"
   ]
  },
  {
   "cell_type": "code",
   "execution_count": 67,
   "id": "a4c4c19f",
   "metadata": {},
   "outputs": [],
   "source": [
    "accuracy_list = [round(float(line.split('\\t')[1]), 2) for line in log_string]"
   ]
  },
  {
   "cell_type": "code",
   "execution_count": 68,
   "id": "fe550f4b",
   "metadata": {},
   "outputs": [
    {
     "data": {
      "text/plain": [
       "[2.0, 4.0, 2.0, 4.0]"
      ]
     },
     "execution_count": 68,
     "metadata": {},
     "output_type": "execute_result"
    }
   ],
   "source": [
    "accuracy_list"
   ]
  },
  {
   "cell_type": "code",
   "execution_count": 69,
   "id": "b24c8f82",
   "metadata": {},
   "outputs": [
    {
     "data": {
      "text/plain": [
       "['main.py',\n",
       " 'b32e20f15.pt',\n",
       " '.ipynb_checkpoints',\n",
       " 'generate.py',\n",
       " 'tamer_test.pt',\n",
       " 'train.py',\n",
       " 'eval.py',\n",
       " 'tlb32e10m0.05.pt',\n",
       " 'b32e20f14.pt',\n",
       " 'Untitled.ipynb',\n",
       " 'LFW_utils',\n",
       " 'evaluation',\n",
       " 'config',\n",
       " 'b16e20f15.pt',\n",
       " 'tamer_test_1000id.pt',\n",
       " 'train_triplet2_resume.py',\n",
       " 'b32e20f8.pt',\n",
       " 'requirements.txt',\n",
       " 'model',\n",
       " 'runs',\n",
       " 'b32e20f0.pt',\n",
       " 'b32e20f13.pt',\n",
       " '__pycache__',\n",
       " 'pipeline.py',\n",
       " 'pl.pt',\n",
       " 'experiment',\n",
       " 'data',\n",
       " 'train_triplet2.py',\n",
       " 'train_triplet.py',\n",
       " 'README.md']"
      ]
     },
     "execution_count": 69,
     "metadata": {},
     "output_type": "execute_result"
    }
   ],
   "source": [
    "os.listdir()"
   ]
  },
  {
   "cell_type": "code",
   "execution_count": 2,
   "id": "6c0ad2d0",
   "metadata": {},
   "outputs": [],
   "source": [
    "dataset_name = \"resnet_pretrained\"\n",
    "dataset_project = \"datasets/facenet\"\n",
    "dataset_path = Dataset.get(\n",
    "    dataset_name=dataset_name, \n",
    "    dataset_project=dataset_project\n",
    ").get_local_copy()"
   ]
  },
  {
   "cell_type": "code",
   "execution_count": null,
   "id": "983712a5",
   "metadata": {},
   "outputs": [],
   "source": []
  },
  {
   "cell_type": "code",
   "execution_count": 3,
   "id": "fd72b598",
   "metadata": {},
   "outputs": [],
   "source": [
    "PROJECT_NAME = 'facenet'\n",
    "PIPELINE_NAME = 'tamer_exp6_b256_e1_i5000_id64_f15_semi'"
   ]
  },
  {
   "cell_type": "code",
   "execution_count": 4,
   "id": "2c446602",
   "metadata": {},
   "outputs": [],
   "source": [
    "params = {\n",
    "    'exp_name':PIPELINE_NAME,\n",
    "    'triplet':True,                                             # stage 1t\n",
    "    'data_dir':'train/',                              # stage 1, 2\n",
    "    'batch_size':256,                                           # stage 1\n",
    "    'epochs':1,                                                # stage 1\n",
    "    'learn_rate':1e-3,                                          # stage 1t\n",
    "    'margin':0.2,                                               # stage 1t\n",
    "    'freeze_layers':15,                                         # stage 1\n",
    "    'iterations_per_epoch': 5000,                               # stage 1t\n",
    "    'num_human_id_per_batch': 64,                               # stage 1t\n",
    "    'semihard': True,\n",
    "    'output_triplets_path': 'generated_triplets/',   # stage 1t\n",
    "    'model_path':PIPELINE_NAME+'.pt',  # stage 1, 2, 3\n",
    "    'emb_dir':'emb/',                                 # stage 2, 3\n",
    "    'eval_dir':'test/',                               # stage 3\n",
    "    'label_path':'label.json',                       #stage 3\n",
    "    'remote': False,\n",
    "    's3':True,\n",
    "    's3_dataset_name':'vggface_exp6',\n",
    "    's3_lfw_name':'lfw_eval',\n",
    "    'lfw_dataroot':'lfw_224',\n",
    "    'lfw_pairs':'LFW_pairs.txt'\n",
    "}\n"
   ]
  },
  {
   "cell_type": "code",
   "execution_count": 5,
   "id": "607f2a37",
   "metadata": {},
   "outputs": [],
   "source": [
    "parameter_override={\n",
    "    'Args/clearml': True,\n",
    "    'Args/data_dir': params['data_dir'],\n",
    "    'Args/batch_size': params['batch_size'],\n",
    "    'Args/epochs': params['epochs'],\n",
    "    'Args/freeze_layers': params['freeze_layers'],\n",
    "    'Args/model_path': params['model_path'],\n",
    "    'Args/margin': params['margin'],\n",
    "    'Args/learn_rate': params['learn_rate'],\n",
    "    'Args/iterations_per_epoch': params['iterations_per_epoch'],\n",
    "    'Args/num_human_id_per_batch': params['num_human_id_per_batch'],\n",
    "    'Args/output_triplets_path': params['output_triplets_path'],\n",
    "    'Args/semihard': params['semihard'],\n",
    "    'Args/s3': params['s3'],\n",
    "    'Args/s3_dataset_name': params['s3_dataset_name'],\n",
    "    'Args/s3_lfw_name': params['s3_lfw_name'],\n",
    "    'Args/lfw_dataroot': params['lfw_dataroot'],\n",
    "    'Args/lfw_pairs': params['lfw_pairs'],\n",
    "    'Args/exp_name':params['exp_name']\n",
    "\n",
    "}"
   ]
  },
  {
   "cell_type": "code",
   "execution_count": 4,
   "id": "c5ef0a00",
   "metadata": {},
   "outputs": [
    {
     "name": "stdout",
     "output_type": "stream",
     "text": [
      "python train_triplet2.py \\\n",
      "--clearml \\\n",
      "--data_dir train/ \\\n",
      "--batch_size 256 \\\n",
      "--epochs 1 \\\n",
      "--freeze_layers 15 \\\n",
      "--model_path tamer_exp6_b256_e1_i5000_id64_f15_semi.pt \\\n",
      "--margin 0.2 \\\n",
      "--learn_rate 0.001 \\\n",
      "--iterations_per_epoch 5000 \\\n",
      "--num_human_id_per_batch 64 \\\n",
      "--output_triplets_path generated_triplets/ \\\n",
      "--semihard \\\n",
      "--s3 \\\n",
      "--s3_dataset_name vggface_exp6 \\\n",
      "--s3_lfw_name lfw_eval \\\n",
      "--lfw_dataroot lfw_224 \\\n",
      "--lfw_pairs LFW_pairs.txt \\\n",
      "--exp_name tamer_exp6_b256_e1_i5000_id64_f15_semi \\\n"
     ]
    }
   ],
   "source": [
    "print(\"python train_triplet2.py \\\\\")\n",
    "for i in parameter_override:\n",
    "    if type(parameter_override[i]) is bool:\n",
    "        if parameter_override[i]:\n",
    "            print(\"--\"+i[5:]+' \\\\')\n",
    "    else:\n",
    "        print(\"--\"+i[5:], str(parameter_override[i])+' \\\\')"
   ]
  },
  {
   "cell_type": "code",
   "execution_count": 6,
   "id": "5224974b",
   "metadata": {},
   "outputs": [],
   "source": [
    "parameter_override={\n",
    "    'Args/clearml': True,\n",
    "    'Args/input': params['data_dir'],\n",
    "    'Args/output': params['emb_dir'],\n",
    "    'Args/model_path': params['model_path'],\n",
    "    'Args/s3': params['s3'],\n",
    "    'Args/s3_dataset_name': params['s3_dataset_name'],\n",
    "    'Args/exp_name':params['exp_name']\n",
    "}"
   ]
  },
  {
   "cell_type": "code",
   "execution_count": 7,
   "id": "5ccc1047",
   "metadata": {},
   "outputs": [
    {
     "name": "stdout",
     "output_type": "stream",
     "text": [
      "python generate.py \\\n",
      "--clearml \\\n",
      "--input train/ \\\n",
      "--output emb/ \\\n",
      "--model_path tamer_exp6_b256_e1_i5000_id64_f15_semi.pt \\\n",
      "--s3 \\\n",
      "--s3_dataset_name vggface_exp6 \\\n",
      "--exp_name tamer_exp6_b256_e1_i5000_id64_f15_semi \\\n"
     ]
    }
   ],
   "source": [
    "print(\"python generate.py \\\\\")\n",
    "for i in parameter_override:\n",
    "    if type(parameter_override[i]) is bool:\n",
    "        print(\"--\"+i[5:]+' \\\\')\n",
    "    else:\n",
    "        print(\"--\"+i[5:], str(parameter_override[i])+' \\\\')"
   ]
  },
  {
   "cell_type": "code",
   "execution_count": 7,
   "id": "be34e8ad",
   "metadata": {},
   "outputs": [],
   "source": [
    "parameter_override={\n",
    "    'Args/use_clearml': True,\n",
    "    'Args/input': params['eval_dir'],\n",
    "    'Args/emb': params['emb_dir'],\n",
    "    'Args/label': params['label_path'],\n",
    "    'Args/model_path': params['model_path'],\n",
    "    'Args/s3': params['s3'],\n",
    "    'Args/s3_dataset_name': params['s3_dataset_name'],\n",
    "    'Args/exp_name':params['exp_name']\n",
    "}"
   ]
  },
  {
   "cell_type": "code",
   "execution_count": 8,
   "id": "d3ea6325",
   "metadata": {},
   "outputs": [
    {
     "name": "stdout",
     "output_type": "stream",
     "text": [
      "python eval.py \\\n",
      "--use_clearml \\\n",
      "--input test/ \\\n",
      "--emb emb/ \\\n",
      "--label label.json \\\n",
      "--model_path tamer_exp6_b256_e1_i5000_id64_f15_semi.pt \\\n",
      "--s3 \\\n",
      "--s3_dataset_name vggface_exp6 \\\n",
      "--exp_name tamer_exp6_b256_e1_i5000_id64_f15_semi \\\n"
     ]
    }
   ],
   "source": [
    "print(\"python eval.py \\\\\")\n",
    "for i in parameter_override:\n",
    "    if type(parameter_override[i]) is bool:\n",
    "        print(\"--\"+i[5:]+' \\\\')\n",
    "    else:\n",
    "        print(\"--\"+i[5:], str(parameter_override[i])+' \\\\')"
   ]
  },
  {
   "cell_type": "code",
   "execution_count": 26,
   "id": "a1019d95",
   "metadata": {},
   "outputs": [
    {
     "data": {
      "text/plain": [
       "bool"
      ]
     },
     "execution_count": 26,
     "metadata": {},
     "output_type": "execute_result"
    }
   ],
   "source": [
    "type(parameter_override['Args/s3']"
   ]
  },
  {
   "cell_type": "code",
   "execution_count": 30,
   "id": "6a56d0c7",
   "metadata": {},
   "outputs": [],
   "source": [
    "import os"
   ]
  },
  {
   "cell_type": "code",
   "execution_count": 80,
   "id": "e100eeb2",
   "metadata": {},
   "outputs": [
    {
     "name": "stdout",
     "output_type": "stream",
     "text": [
      "Roh_Moo-hyun\n",
      "John_Kerry\n",
      "Andy_Roddick\n",
      "Tom_Daschle\n",
      "Rudolph_Giuliani\n",
      "John_Bolton\n",
      "George_HW_Bush\n",
      "Lance_Armstrong\n",
      "Atal_Bihari_Vajpayee\n",
      "David_Nalbandian\n",
      "Julianne_Moore\n",
      "Jennifer_Lopez\n",
      "Jennifer_Garner\n",
      "Julie_Gerberding\n",
      "Jiang_Zemin\n",
      "Jean_Charest\n",
      "Lucio_Gutierrez\n",
      "Abdullah_Gul\n",
      "Bill_Gates\n",
      "Jennifer_Aniston\n",
      "Tim_Henman\n",
      "Charles_Moose\n",
      "Renee_Zellweger\n",
      "Naomi_Watts\n",
      "Jeb_Bush\n",
      "George_Robertson\n",
      "Igor_Ivanov\n",
      "Hamid_Karzai\n",
      "Venus_Williams\n",
      "Angelina_Jolie\n",
      "Fidel_Castro\n",
      "Pete_Sampras\n",
      "Megawati_Sukarnoputri\n",
      "Joschka_Fischer\n",
      "Jose_Maria_Aznar\n",
      "Michael_Schumacher\n",
      "Norah_Jones\n",
      "Michael_Jackson\n",
      "Winona_Ryder\n",
      "Trent_Lott\n",
      "Roger_Federer\n",
      "Edmund_Stoiber\n",
      "Mahmoud_Abbas\n",
      "Spencer_Abraham\n",
      "Gray_Davis\n",
      "Kim_Clijsters\n",
      "Guillermo_Coria\n",
      "Salma_Hayek\n",
      "David_Beckham\n",
      "Halle_Berry\n",
      "Eduardo_Duhalde\n",
      "Gonzalo_Sanchez_de_Lozada\n",
      "Yoriko_Kawaguchi\n",
      "Lindsay_Davenport\n",
      "Juan_Carlos_Ferrero\n",
      "Jack_Straw\n",
      "Pierce_Brosnan\n",
      "Hu_Jintao\n",
      "Vicente_Fox\n",
      "Alvaro_Uribe\n",
      "Mahathir_Mohamad\n",
      "Meryl_Streep\n",
      "Queen_Elizabeth_II\n",
      "Tom_Ridge\n",
      "Bill_Clinton\n",
      "Nancy_Pelosi\n",
      "Britney_Spears\n",
      "Pervez_Musharraf\n",
      "Recep_Tayyip_Erdogan\n",
      "Adrien_Brody\n",
      "Carlos_Menem\n",
      "Dick_Cheney\n",
      "John_Negroponte\n",
      "Saddam_Hussein\n",
      "James_Blake\n",
      "Taha_Yassin_Ramadan\n",
      "Bill_Simon\n",
      "Tommy_Franks\n",
      "Michael_Bloomberg\n",
      "Richard_Myers\n",
      "Carlos_Moya\n",
      "Kofi_Annan\n",
      "Amelie_Mauresmo\n",
      "Jackie_Chan\n",
      "Keanu_Reeves\n",
      "Ricardo_Lagos\n",
      "Nicole_Kidman\n",
      "Ari_Fleischer\n",
      "John_Snow\n",
      "Anna_Kournikova\n",
      "Gordon_Brown\n",
      "Silvio_Berlusconi\n",
      "Howard_Dean\n",
      "Joe_Lieberman\n",
      "Jeremy_Greenstock\n",
      "Mohammed_Al-Douri\n",
      "Paul_Bremer\n",
      "John_Howard\n",
      "Wen_Jiabao\n",
      "Dominique_de_Villepin\n",
      "Harrison_Ford\n",
      "Rubens_Barrichello\n",
      "Hillary_Clinton\n",
      "Tiger_Woods\n",
      "104 / 5749\n"
     ]
    }
   ],
   "source": [
    "count1=0\n",
    "count2=0\n",
    "for i in os.listdir('LFW_utils/lfw_224'):\n",
    "    fol_len = len(os.listdir('LFW_utils/lfw_224/'+i))\n",
    "    if fol_len>=12 and fol_len<=35:\n",
    "        print(i)\n",
    "        count2+=1\n",
    "    count1+=1\n",
    "print(count2,'/',count1)"
   ]
  },
  {
   "cell_type": "code",
   "execution_count": null,
   "id": "907b2a96",
   "metadata": {},
   "outputs": [],
   "source": []
  }
 ],
 "metadata": {
  "kernelspec": {
   "display_name": "Python 3 (ipykernel)",
   "language": "python",
   "name": "python3"
  },
  "language_info": {
   "codemirror_mode": {
    "name": "ipython",
    "version": 3
   },
   "file_extension": ".py",
   "mimetype": "text/x-python",
   "name": "python",
   "nbconvert_exporter": "python",
   "pygments_lexer": "ipython3",
   "version": "3.9.12"
  }
 },
 "nbformat": 4,
 "nbformat_minor": 5
}
